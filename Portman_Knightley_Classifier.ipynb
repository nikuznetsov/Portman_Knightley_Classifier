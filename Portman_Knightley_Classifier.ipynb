{
 "cells": [
  {
   "cell_type": "code",
   "execution_count": 1,
   "metadata": {
    "colab": {
     "base_uri": "https://localhost:8080/"
    },
    "id": "eH8gicsOWriY",
    "outputId": "db402262-9f19-46dc-dcf8-c1b7ec74e739"
   },
   "outputs": [
    {
     "name": "stdout",
     "output_type": "stream",
     "text": [
      "Archive:  /content/data.zip\n",
      "   creating: data/\n",
      "   creating: data/train/\n",
      "   creating: data/train/knightley/\n",
      " extracting: data/train/knightley/1.png  \n",
      " extracting: data/train/knightley/100.png  \n",
      " extracting: data/train/knightley/11.png  \n",
      " extracting: data/train/knightley/12.png  \n",
      " extracting: data/train/knightley/13.png  \n",
      " extracting: data/train/knightley/14.png  \n",
      " extracting: data/train/knightley/15.png  \n",
      " extracting: data/train/knightley/16.png  \n",
      " extracting: data/train/knightley/17.png  \n",
      " extracting: data/train/knightley/18.png  \n",
      " extracting: data/train/knightley/2.png  \n",
      " extracting: data/train/knightley/20.png  \n",
      " extracting: data/train/knightley/21.png  \n",
      " extracting: data/train/knightley/24.png  \n",
      " extracting: data/train/knightley/25.png  \n",
      " extracting: data/train/knightley/26.png  \n",
      " extracting: data/train/knightley/27.png  \n",
      " extracting: data/train/knightley/28.png  \n",
      " extracting: data/train/knightley/31.png  \n",
      " extracting: data/train/knightley/32.png  \n",
      " extracting: data/train/knightley/33.png  \n",
      " extracting: data/train/knightley/34.png  \n",
      " extracting: data/train/knightley/35.png  \n",
      "  inflating: data/train/knightley/36.png  \n",
      " extracting: data/train/knightley/37.png  \n",
      " extracting: data/train/knightley/38.png  \n",
      " extracting: data/train/knightley/39.png  \n",
      " extracting: data/train/knightley/4.png  \n",
      " extracting: data/train/knightley/41.png  \n",
      " extracting: data/train/knightley/42.png  \n",
      " extracting: data/train/knightley/43.png  \n",
      " extracting: data/train/knightley/44.png  \n",
      " extracting: data/train/knightley/45.png  \n",
      " extracting: data/train/knightley/46.png  \n",
      " extracting: data/train/knightley/48.png  \n",
      "  inflating: data/train/knightley/49.png  \n",
      " extracting: data/train/knightley/5.png  \n",
      " extracting: data/train/knightley/51.png  \n",
      " extracting: data/train/knightley/54.png  \n",
      " extracting: data/train/knightley/55.png  \n",
      " extracting: data/train/knightley/56.png  \n",
      " extracting: data/train/knightley/57.png  \n",
      " extracting: data/train/knightley/59.png  \n",
      " extracting: data/train/knightley/6.png  \n",
      " extracting: data/train/knightley/60.png  \n",
      " extracting: data/train/knightley/62.png  \n",
      " extracting: data/train/knightley/63.png  \n",
      " extracting: data/train/knightley/64.png  \n",
      " extracting: data/train/knightley/65.png  \n",
      " extracting: data/train/knightley/66.png  \n",
      " extracting: data/train/knightley/67.png  \n",
      " extracting: data/train/knightley/70.png  \n",
      " extracting: data/train/knightley/71.png  \n",
      " extracting: data/train/knightley/72.png  \n",
      " extracting: data/train/knightley/73.png  \n",
      " extracting: data/train/knightley/74.png  \n",
      " extracting: data/train/knightley/75.png  \n",
      " extracting: data/train/knightley/76.png  \n",
      " extracting: data/train/knightley/77.png  \n",
      " extracting: data/train/knightley/78.png  \n",
      " extracting: data/train/knightley/8.png  \n",
      " extracting: data/train/knightley/81.png  \n",
      " extracting: data/train/knightley/82.png  \n",
      " extracting: data/train/knightley/84.png  \n",
      " extracting: data/train/knightley/85.png  \n",
      "  inflating: data/train/knightley/86.png  \n",
      " extracting: data/train/knightley/87.png  \n",
      " extracting: data/train/knightley/89.png  \n",
      " extracting: data/train/knightley/9.png  \n",
      " extracting: data/train/knightley/90.png  \n",
      " extracting: data/train/knightley/91.png  \n",
      " extracting: data/train/knightley/94.png  \n",
      " extracting: data/train/knightley/95.png  \n",
      " extracting: data/train/knightley/97.png  \n",
      " extracting: data/train/knightley/98.png  \n",
      "   creating: data/train/portman/\n",
      " extracting: data/train/portman/1.png  \n",
      " extracting: data/train/portman/100.png  \n",
      "  inflating: data/train/portman/11.png  \n",
      " extracting: data/train/portman/12.png  \n",
      " extracting: data/train/portman/13.png  \n",
      " extracting: data/train/portman/14.png  \n",
      " extracting: data/train/portman/15.png  \n",
      " extracting: data/train/portman/16.png  \n",
      " extracting: data/train/portman/17.png  \n",
      "  inflating: data/train/portman/19.png  \n",
      " extracting: data/train/portman/2.png  \n",
      " extracting: data/train/portman/21.png  \n",
      " extracting: data/train/portman/22.png  \n",
      " extracting: data/train/portman/24.png  \n",
      " extracting: data/train/portman/25.png  \n",
      " extracting: data/train/portman/26.png  \n",
      " extracting: data/train/portman/29.png  \n",
      " extracting: data/train/portman/3.png  \n",
      " extracting: data/train/portman/30.png  \n",
      " extracting: data/train/portman/31.png  \n",
      " extracting: data/train/portman/32.png  \n",
      " extracting: data/train/portman/34.png  \n",
      " extracting: data/train/portman/35.png  \n",
      " extracting: data/train/portman/36.png  \n",
      " extracting: data/train/portman/37.png  \n",
      " extracting: data/train/portman/38.png  \n",
      " extracting: data/train/portman/4.png  \n",
      " extracting: data/train/portman/40.png  \n",
      " extracting: data/train/portman/41.png  \n",
      " extracting: data/train/portman/43.png  \n",
      " extracting: data/train/portman/44.png  \n",
      " extracting: data/train/portman/45.png  \n",
      " extracting: data/train/portman/46.png  \n",
      " extracting: data/train/portman/47.png  \n",
      " extracting: data/train/portman/49.png  \n",
      " extracting: data/train/portman/50.png  \n",
      " extracting: data/train/portman/51.png  \n",
      " extracting: data/train/portman/52.png  \n",
      " extracting: data/train/portman/54.png  \n",
      " extracting: data/train/portman/56.png  \n",
      " extracting: data/train/portman/6.png  \n",
      " extracting: data/train/portman/60.png  \n",
      " extracting: data/train/portman/61.png  \n",
      " extracting: data/train/portman/62.png  \n",
      " extracting: data/train/portman/63.png  \n",
      " extracting: data/train/portman/64.png  \n",
      "  inflating: data/train/portman/65.png  \n",
      " extracting: data/train/portman/66.png  \n",
      " extracting: data/train/portman/67.png  \n",
      " extracting: data/train/portman/68.png  \n",
      " extracting: data/train/portman/69.png  \n",
      " extracting: data/train/portman/7.png  \n",
      " extracting: data/train/portman/71.png  \n",
      " extracting: data/train/portman/72.png  \n",
      " extracting: data/train/portman/73.png  \n",
      " extracting: data/train/portman/75.png  \n",
      " extracting: data/train/portman/76.png  \n",
      "  inflating: data/train/portman/8.png  \n",
      " extracting: data/train/portman/80.png  \n",
      " extracting: data/train/portman/82.png  \n",
      " extracting: data/train/portman/83.png  \n",
      " extracting: data/train/portman/84.png  \n",
      " extracting: data/train/portman/85.png  \n",
      " extracting: data/train/portman/86.png  \n",
      " extracting: data/train/portman/87.png  \n",
      " extracting: data/train/portman/88.png  \n",
      " extracting: data/train/portman/9.png  \n",
      " extracting: data/train/portman/90.png  \n",
      " extracting: data/train/portman/91.png  \n",
      " extracting: data/train/portman/92.png  \n",
      " extracting: data/train/portman/93.png  \n",
      "  inflating: data/train/portman/94.png  \n",
      "  inflating: data/train/portman/95.png  \n",
      " extracting: data/train/portman/97.png  \n",
      " extracting: data/train/portman/99.png  \n",
      "   creating: data/val/\n",
      "   creating: data/val/knightley/\n",
      " extracting: data/val/knightley/10.png  \n",
      " extracting: data/val/knightley/19.png  \n",
      "  inflating: data/val/knightley/22.png  \n",
      " extracting: data/val/knightley/23.png  \n",
      " extracting: data/val/knightley/29.png  \n",
      " extracting: data/val/knightley/3.png  \n",
      " extracting: data/val/knightley/30.png  \n",
      " extracting: data/val/knightley/40.png  \n",
      " extracting: data/val/knightley/47.png  \n",
      " extracting: data/val/knightley/50.png  \n",
      " extracting: data/val/knightley/52.png  \n",
      " extracting: data/val/knightley/53.png  \n",
      " extracting: data/val/knightley/58.png  \n",
      " extracting: data/val/knightley/61.png  \n",
      " extracting: data/val/knightley/68.png  \n",
      " extracting: data/val/knightley/69.png  \n",
      " extracting: data/val/knightley/7.png  \n",
      "  inflating: data/val/knightley/79.png  \n",
      "  inflating: data/val/knightley/80.png  \n",
      " extracting: data/val/knightley/83.png  \n",
      " extracting: data/val/knightley/88.png  \n",
      " extracting: data/val/knightley/92.png  \n",
      " extracting: data/val/knightley/93.png  \n",
      " extracting: data/val/knightley/96.png  \n",
      " extracting: data/val/knightley/99.png  \n",
      "   creating: data/val/portman/\n",
      " extracting: data/val/portman/10.png  \n",
      " extracting: data/val/portman/18.png  \n",
      " extracting: data/val/portman/20.png  \n",
      " extracting: data/val/portman/23.png  \n",
      " extracting: data/val/portman/27.png  \n",
      " extracting: data/val/portman/28.png  \n",
      " extracting: data/val/portman/33.png  \n",
      " extracting: data/val/portman/39.png  \n",
      " extracting: data/val/portman/42.png  \n",
      " extracting: data/val/portman/48.png  \n",
      " extracting: data/val/portman/5.png  \n",
      " extracting: data/val/portman/53.png  \n",
      "  inflating: data/val/portman/55.png  \n",
      " extracting: data/val/portman/57.png  \n",
      " extracting: data/val/portman/58.png  \n",
      " extracting: data/val/portman/59.png  \n",
      " extracting: data/val/portman/70.png  \n",
      " extracting: data/val/portman/74.png  \n",
      " extracting: data/val/portman/77.png  \n",
      " extracting: data/val/portman/78.png  \n",
      " extracting: data/val/portman/79.png  \n",
      " extracting: data/val/portman/81.png  \n",
      " extracting: data/val/portman/89.png  \n",
      " extracting: data/val/portman/96.png  \n",
      "  inflating: data/val/portman/98.png  \n"
     ]
    }
   ],
   "source": [
    "!unzip /content/data.zip"
   ]
  },
  {
   "cell_type": "code",
   "execution_count": 2,
   "metadata": {
    "id": "rwW0AObzVw_6"
   },
   "outputs": [],
   "source": [
    "import os\n",
    "import shutil\n",
    "import re\n",
    "\n",
    "base_dir = \"/content/data/\"\n",
    "\n",
    "files = os.listdir(base_dir)\n",
    "\n",
    "def train_maker(name):\n",
    "  train_dir = f\"{base_dir}/train/{name}\"\n",
    "  for f in files:\n",
    "        search_object = re.search(name, f)\n",
    "        if search_object:\n",
    "          shutil.move(f'{base_dir}/{name}', train_dir)\n",
    "\n",
    "train_maker(\"knightley\")\n",
    "train_maker(\"portman\")"
   ]
  },
  {
   "cell_type": "code",
   "execution_count": 3,
   "metadata": {
    "id": "AqZuCiW3Xg0-"
   },
   "outputs": [],
   "source": [
    "knightley_train = base_dir + \"train/knightley/\"\n",
    "knightley_val = base_dir + \"val/knightley/\"\n",
    "portman_train = base_dir + \"train/portman/\"\n",
    "portman_val = base_dir + \"val/portman/\"\n",
    "\n",
    "knightley_files = os.listdir(knightley_train)\n",
    "portman_files = os.listdir(portman_train)"
   ]
  },
  {
   "cell_type": "code",
   "execution_count": 4,
   "metadata": {
    "id": "tIzcded2X4TN"
   },
   "outputs": [],
   "source": [
    "for f in knightley_files:\n",
    "    validation_knightley_SearchObj = re.search(\"5\\d\\d\\d\", f)\n",
    "    if validation_knightley_SearchObj:\n",
    "        shutil.move(f'{knightley_train}/{f}', knightley_val)\n",
    "\n",
    "for f in portman_files:\n",
    "    validation_knightley_SearchObj = re.search(\"5\\d\\d\\d\", f)\n",
    "    if validation_knightley_SearchObj:\n",
    "        shutil.move(f'{portman_train}/{f}', portman_val)"
   ]
  },
  {
   "cell_type": "code",
   "execution_count": 5,
   "metadata": {
    "id": "dZsj1JmnYQLR"
   },
   "outputs": [],
   "source": [
    "from __future__ import print_function, division\n",
    "\n",
    "import torch\n",
    "import torch.nn as nn\n",
    "import torch.optim as optim\n",
    "from torch.optim import lr_scheduler\n",
    "import torchvision\n",
    "from torchvision import datasets, models, transforms\n",
    "import matplotlib.pyplot as plt\n",
    "import numpy as np\n",
    "import time\n",
    "import os\n",
    "import copy"
   ]
  },
  {
   "cell_type": "code",
   "execution_count": 6,
   "metadata": {
    "id": "BGldKq1ZYWv4"
   },
   "outputs": [],
   "source": [
    "mean_nums = [0.485, 0.456, 0.406]\n",
    "std_nums = [0.229, 0.224, 0.225]\n",
    "\n",
    "chosen_transforms = {'train': transforms.Compose([\n",
    "        transforms.RandomRotation(degrees=5),\n",
    "        transforms.RandomHorizontalFlip(),\n",
    "        transforms.ToTensor(),\n",
    "        transforms.Normalize(mean_nums, std_nums)\n",
    "]), 'val': transforms.Compose([\n",
    "        transforms.ToTensor(),\n",
    "        transforms.Normalize(mean_nums, std_nums)\n",
    "]),\n",
    "}"
   ]
  },
  {
   "cell_type": "code",
   "execution_count": 7,
   "metadata": {
    "id": "eiiI16dKYZLd"
   },
   "outputs": [],
   "source": [
    "data_dir = '/content/data/'\n",
    "\n",
    "chosen_datasets = {x: datasets.ImageFolder(os.path.join(data_dir, x),\n",
    "  chosen_transforms[x])\n",
    "                  for x in ['train', 'val']}"
   ]
  },
  {
   "cell_type": "code",
   "execution_count": 8,
   "metadata": {
    "id": "mOfe1dy5Ym_h"
   },
   "outputs": [],
   "source": [
    "dataloaders = {x: torch.utils.data.DataLoader(chosen_datasets[x], batch_size=4,\n",
    "  shuffle=True, num_workers=4)\n",
    "              for x in ['train', 'val']}"
   ]
  },
  {
   "cell_type": "code",
   "execution_count": 9,
   "metadata": {
    "id": "Y2KJ5gKLYoXg"
   },
   "outputs": [],
   "source": [
    "dataset_sizes = {x: len(chosen_datasets[x]) for x in ['train', 'val']}\n",
    "class_names = chosen_datasets['train'].classes\n",
    "\n",
    "device = torch.device(\"cuda\" if torch.cuda.is_available() else \"cpu\")"
   ]
  },
  {
   "cell_type": "code",
   "execution_count": 10,
   "metadata": {
    "id": "VsoJeWGPYsuO"
   },
   "outputs": [],
   "source": [
    "def imshow(inp, title=None):\n",
    "    inp = inp.numpy().transpose((1, 2, 0))\n",
    "    mean = np.array([mean_nums])\n",
    "    std = np.array([std_nums])\n",
    "    inp = std * inp + mean\n",
    "    inp = np.clip(inp, 0, 1)\n",
    "    plt.imshow(inp)\n",
    "    if title is not None:\n",
    "        plt.title(title)\n",
    "    plt.pause(0.001) "
   ]
  },
  {
   "cell_type": "code",
   "execution_count": 11,
   "metadata": {
    "colab": {
     "base_uri": "https://localhost:8080/",
     "height": 148
    },
    "id": "7PCG19OuYuQN",
    "outputId": "64cdeebc-8634-43b3-97fc-a8c09bdf5783"
   },
   "outputs": [
    {
     "data": {
      "image/png": "[encoded data removed]",
      "text/plain": [
       "<Figure size 432x288 with 1 Axes>"
      ]
     },
     "metadata": {
      "needs_background": "light",
      "tags": []
     },
     "output_type": "display_data"
    }
   ],
   "source": [
    "inputs, classes = next(iter(dataloaders['train']))\n",
    "\n",
    "out = torchvision.utils.make_grid(inputs)\n",
    "\n",
    "imshow(out, title=[class_names[x] for x in classes])"
   ]
  },
  {
   "cell_type": "code",
   "execution_count": 12,
   "metadata": {
    "colab": {
     "base_uri": "https://localhost:8080/",
     "height": 82,
     "referenced_widgets": [
      "e333c767571940abad1d07aef7686a58",
      "266991b9ef7c4e73ac117dfe7f967dcb",
      "23c1c15b72ba406ba0e1a2e15e13a704",
      "00b0b2af2a5d4a06ac2364d470d25e90",
      "5304a575187f4b2ab9674f36f3aeb0f3",
      "f879f920dff3455cbd6663241655f421",
      "875792e7a27c4ac58ee09e219296067f",
      "035a68f1cc544a72a483c50a6037b824"
     ]
    },
    "id": "W_Iei0xZZE_w",
    "outputId": "d6e9b54f-ba4f-4e30-c9dd-a140f0bed814"
   },
   "outputs": [
    {
     "name": "stderr",
     "output_type": "stream",
     "text": [
      "Downloading: \"https://download.pytorch.org/models/googlenet-1378be20.pth\" to /root/.cache/torch/hub/checkpoints/googlenet-1378be20.pth\n"
     ]
    },
    {
     "data": {
      "application/vnd.jupyter.widget-view+json": {
       "model_id": "e333c767571940abad1d07aef7686a58",
       "version_major": 2,
       "version_minor": 0
      },
      "text/plain": [
       "HBox(children=(FloatProgress(value=0.0, max=52147035.0), HTML(value='')))"
      ]
     },
     "metadata": {
      "tags": []
     },
     "output_type": "display_data"
    },
    {
     "name": "stdout",
     "output_type": "stream",
     "text": [
      "\n"
     ]
    }
   ],
   "source": [
    "res_mod = models.googlenet(pretrained=True) # resnet152 and resnext101_32x8d also work fine\n",
    "num_ftrs = res_mod.fc.in_features\n",
    "res_mod.fc = nn.Linear(num_ftrs, 2)"
   ]
  },
  {
   "cell_type": "code",
   "execution_count": 13,
   "metadata": {
    "id": "O1Z42odWZJ-C"
   },
   "outputs": [],
   "source": [
    "res_mod = res_mod.to(device)\n",
    "criterion = nn.CrossEntropyLoss()\n",
    "\n",
    "optimizer_ft = optim.Adam(res_mod.parameters(), lr=3e-4)\n",
    "\n",
    "exp_lr_scheduler = lr_scheduler.StepLR(optimizer_ft, step_size=5, gamma=0.05)"
   ]
  },
  {
   "cell_type": "code",
   "execution_count": 14,
   "metadata": {
    "id": "Rc_YAkT6ZYRT"
   },
   "outputs": [],
   "source": [
    "def train_model(model, criterion, optimizer, scheduler, num_epochs):\n",
    "    since = time.time()\n",
    "\n",
    "    best_model_wts = copy.deepcopy(model.state_dict())\n",
    "    best_acc = 0.0\n",
    "\n",
    "    for epoch in range(num_epochs):\n",
    "        print('Epoch {}/{}'.format(epoch, num_epochs - 1))\n",
    "        print('-' * 10)\n",
    "\n",
    "        for phase in ['train', 'val']:\n",
    "            if phase == 'train':\n",
    "                scheduler.step()\n",
    "                model.train()  \n",
    "            else:\n",
    "                model.eval()  \n",
    "\n",
    "            current_loss = 0.0\n",
    "            current_corrects = 0\n",
    "\n",
    "            print('Iterating through data...')\n",
    "\n",
    "            for inputs, labels in dataloaders[phase]:\n",
    "                inputs = inputs.to(device)\n",
    "                labels = labels.to(device)\n",
    "\n",
    "                optimizer.zero_grad()\n",
    "\n",
    "                with torch.set_grad_enabled(phase == 'train'):\n",
    "                    outputs = model(inputs)\n",
    "                    _, preds = torch.max(outputs, 1)\n",
    "                    loss = criterion(outputs, labels)\n",
    "\n",
    "                    if phase == 'train':\n",
    "                        loss.backward()\n",
    "                        optimizer.step()\n",
    "\n",
    "                current_loss += loss.item() * inputs.size(0)\n",
    "                current_corrects += torch.sum(preds == labels.data)\n",
    "\n",
    "            epoch_loss = current_loss / dataset_sizes[phase]\n",
    "            epoch_acc = current_corrects.double() / dataset_sizes[phase]\n",
    "\n",
    "            print('{} Loss: {:.4f} Acc: {:.4f}'.format(\n",
    "                phase, epoch_loss, epoch_acc))\n",
    "\n",
    "            if phase == 'val' and epoch_acc > best_acc:\n",
    "                best_acc = epoch_acc\n",
    "                best_model_wts = copy.deepcopy(model.state_dict())\n",
    "\n",
    "        print()\n",
    "\n",
    "    time_since = time.time() - since\n",
    "    print('Training complete in {:.0f}m {:.0f}s'.format(\n",
    "        time_since // 60, time_since % 60))\n",
    "    print('Best val Acc: {:4f}'.format(best_acc))\n",
    "\n",
    "    model.load_state_dict(best_model_wts)\n",
    "    return model"
   ]
  },
  {
   "cell_type": "code",
   "execution_count": 15,
   "metadata": {
    "id": "_SnhzkZ4Zyva"
   },
   "outputs": [],
   "source": [
    "def visualize_model(model, num_images=10):\n",
    "    was_training = model.training\n",
    "    model.eval()\n",
    "    images_handeled = 0\n",
    "    fig = plt.figure()\n",
    "    acc = 0\n",
    "    c = 0\n",
    "\n",
    "    with torch.no_grad():\n",
    "        for i, (inputs, labels) in enumerate(dataloaders['val']):\n",
    "            inputs = inputs.to(device)\n",
    "            labels = labels.to(device)\n",
    "\n",
    "            outputs = model(inputs)\n",
    "            _, preds = torch.max(outputs, 1)\n",
    "\n",
    "            for j in range(inputs.size()[0]):\n",
    "                images_handeled += 1\n",
    "                ax = plt.subplot(num_images//2, 2, images_handeled)\n",
    "                ax.axis('off')\n",
    "                ax.set_title('predicted: {}, true: {}'.format(class_names[preds[j]], class_names[labels[j]]))\n",
    "                imshow(inputs.cpu().data[j])\n",
    "\n",
    "                if images_handeled == num_images:\n",
    "                    model.train(mode=was_training)\n",
    "                    return\n",
    "        model.train(mode=was_training)"
   ]
  },
  {
   "cell_type": "code",
   "execution_count": 16,
   "metadata": {
    "colab": {
     "base_uri": "https://localhost:8080/",
     "height": 1000
    },
    "id": "2Hr5YFF2Z_QH",
    "outputId": "de915afb-19f1-4e44-b00f-c2c6e65c0a93"
   },
   "outputs": [
    {
     "name": "stdout",
     "output_type": "stream",
     "text": [
      "Epoch 0/9\n",
      "----------\n",
      "Iterating through data...\n"
     ]
    },
    {
     "name": "stderr",
     "output_type": "stream",
     "text": [
      "/usr/local/lib/python3.6/dist-packages/torch/optim/lr_scheduler.py:136: UserWarning: Detected call of `lr_scheduler.step()` before `optimizer.step()`. In PyTorch 1.1.0 and later, you should call them in the opposite order: `optimizer.step()` before `lr_scheduler.step()`.  Failure to do this will result in PyTorch skipping the first value of the learning rate schedule. See more details at https://pytorch.org/docs/stable/optim.html#how-to-adjust-learning-rate\n",
      "  \"https://pytorch.org/docs/stable/optim.html#how-to-adjust-learning-rate\", UserWarning)\n"
     ]
    },
    {
     "name": "stdout",
     "output_type": "stream",
     "text": [
      "train Loss: 0.5150 Acc: 0.7600\n",
      "Iterating through data...\n",
      "val Loss: 0.2942 Acc: 0.8800\n",
      "\n",
      "Epoch 1/9\n",
      "----------\n",
      "Iterating through data...\n",
      "train Loss: 0.3001 Acc: 0.8667\n",
      "Iterating through data...\n",
      "val Loss: 0.2334 Acc: 0.9200\n",
      "\n",
      "Epoch 2/9\n",
      "----------\n",
      "Iterating through data...\n",
      "train Loss: 0.2773 Acc: 0.8733\n",
      "Iterating through data...\n",
      "val Loss: 0.2469 Acc: 0.9000\n",
      "\n",
      "Epoch 3/9\n",
      "----------\n",
      "Iterating through data...\n",
      "train Loss: 0.2435 Acc: 0.9067\n",
      "Iterating through data...\n",
      "val Loss: 0.2281 Acc: 0.9200\n",
      "\n",
      "Epoch 4/9\n",
      "----------\n",
      "Iterating through data...\n",
      "train Loss: 0.2157 Acc: 0.9333\n",
      "Iterating through data...\n",
      "val Loss: 0.1723 Acc: 0.9600\n",
      "\n",
      "Epoch 5/9\n",
      "----------\n",
      "Iterating through data...\n",
      "train Loss: 0.1993 Acc: 0.9133\n",
      "Iterating through data...\n",
      "val Loss: 0.1941 Acc: 0.9400\n",
      "\n",
      "Epoch 6/9\n",
      "----------\n",
      "Iterating through data...\n",
      "train Loss: 0.2349 Acc: 0.9067\n",
      "Iterating through data...\n",
      "val Loss: 0.1706 Acc: 0.9600\n",
      "\n",
      "Epoch 7/9\n",
      "----------\n",
      "Iterating through data...\n",
      "train Loss: 0.1637 Acc: 0.9267\n",
      "Iterating through data...\n",
      "val Loss: 0.1306 Acc: 0.9600\n",
      "\n",
      "Epoch 8/9\n",
      "----------\n",
      "Iterating through data...\n",
      "train Loss: 0.1897 Acc: 0.9467\n",
      "Iterating through data...\n",
      "val Loss: 0.1360 Acc: 0.9600\n",
      "\n",
      "Epoch 9/9\n",
      "----------\n",
      "Iterating through data...\n",
      "train Loss: 0.1153 Acc: 0.9667\n",
      "Iterating through data...\n",
      "val Loss: 0.1375 Acc: 0.9600\n",
      "\n",
      "Training complete in 0m 25s\n",
      "Best val Acc: 0.960000\n"
     ]
    },
    {
     "data": {
      "image/png": "[encoded data removed]",
      "text/plain": [
       "<Figure size 432x288 with 1 Axes>"
      ]
     },
     "metadata": {
      "needs_background": "light",
      "tags": []
     },
     "output_type": "display_data"
    },
    {
     "data": {
      "image/png": "[encoded data removed]",
      "text/plain": [
       "<Figure size 432x288 with 1 Axes>"
      ]
     },
     "metadata": {
      "needs_background": "light",
      "tags": []
     },
     "output_type": "display_data"
    },
    {
     "data": {
      "image/png": "[encoded data removed]",
      "text/plain": [
       "<Figure size 432x288 with 1 Axes>"
      ]
     },
     "metadata": {
      "needs_background": "light",
      "tags": []
     },
     "output_type": "display_data"
    },
    {
     "data": {
      "image/png": "[encoded data removed]",
      "text/plain": [
       "<Figure size 432x288 with 1 Axes>"
      ]
     },
     "metadata": {
      "needs_background": "light",
      "tags": []
     },
     "output_type": "display_data"
    },
    {
     "data": {
      "image/png": "[encoded data removed]",
      "text/plain": [
       "<Figure size 432x288 with 1 Axes>"
      ]
     },
     "metadata": {
      "needs_background": "light",
      "tags": []
     },
     "output_type": "display_data"
    },
    {
     "data": {
      "image/png": "[encoded data removed]",
      "text/plain": [
       "<Figure size 432x288 with 1 Axes>"
      ]
     },
     "metadata": {
      "needs_background": "light",
      "tags": []
     },
     "output_type": "display_data"
    },
    {
     "data": {
      "image/png": "[encoded data removed]",
      "text/plain": [
       "<Figure size 432x288 with 1 Axes>"
      ]
     },
     "metadata": {
      "needs_background": "light",
      "tags": []
     },
     "output_type": "display_data"
    },
    {
     "data": {
      "image/png": "[encoded data removed]",
      "text/plain": [
       "<Figure size 432x288 with 1 Axes>"
      ]
     },
     "metadata": {
      "needs_background": "light",
      "tags": []
     },
     "output_type": "display_data"
    },
    {
     "data": {
      "image/png": "[encoded data removed]",
      "text/plain": [
       "<Figure size 432x288 with 1 Axes>"
      ]
     },
     "metadata": {
      "needs_background": "light",
      "tags": []
     },
     "output_type": "display_data"
    },
    {
     "data": {
      "image/png": "[encoded data removed]",
      "text/plain": [
       "<Figure size 432x288 with 1 Axes>"
      ]
     },
     "metadata": {
      "needs_background": "light",
      "tags": []
     },
     "output_type": "display_data"
    }
   ],
   "source": [
    "base_model = train_model(res_mod, criterion, optimizer_ft, exp_lr_scheduler, num_epochs=10)\n",
    "visualize_model(base_model)\n",
    "plt.show()"
   ]
  }
 ],
 "metadata": {
  "accelerator": "GPU",
  "colab": {
   "collapsed_sections": [],
   "name": "Portman_Knightley_Classifier.ipynb",
   "provenance": []
  },
  "kernelspec": {
   "display_name": "Python 3",
   "language": "python",
   "name": "python3"
  },
  "language_info": {
   "codemirror_mode": {
    "name": "ipython",
    "version": 3
   },
   "file_extension": ".py",
   "mimetype": "text/x-python",
   "name": "python",
   "nbconvert_exporter": "python",
   "pygments_lexer": "ipython3",
   "version": "3.8.3"
  },
  "widgets": {
   "application/vnd.jupyter.widget-state+json": {
    "00b0b2af2a5d4a06ac2364d470d25e90": {
     "model_module": "@jupyter-widgets/controls",
     "model_name": "HTMLModel",
     "state": {
      "_dom_classes": [],
      "_model_module": "@jupyter-widgets/controls",
      "_model_module_version": "1.5.0",
      "_model_name": "HTMLModel",
      "_view_count": null,
      "_view_module": "@jupyter-widgets/controls",
      "_view_module_version": "1.5.0",
      "_view_name": "HTMLView",
      "description": "",
      "description_tooltip": null,
      "layout": "IPY_MODEL_035a68f1cc544a72a483c50a6037b824",
      "placeholder": "​",
      "style": "IPY_MODEL_875792e7a27c4ac58ee09e219296067f",
      "value": " 49.7M/49.7M [00:00&lt;00:00, 89.4MB/s]"
     }
    },
    "035a68f1cc544a72a483c50a6037b824": {
     "model_module": "@jupyter-widgets/base",
     "model_name": "LayoutModel",
     "state": {
      "_model_module": "@jupyter-widgets/base",
      "_model_module_version": "1.2.0",
      "_model_name": "LayoutModel",
      "_view_count": null,
      "_view_module": "@jupyter-widgets/base",
      "_view_module_version": "1.2.0",
      "_view_name": "LayoutView",
      "align_content": null,
      "align_items": null,
      "align_self": null,
      "border": null,
      "bottom": null,
      "display": null,
      "flex": null,
      "flex_flow": null,
      "grid_area": null,
      "grid_auto_columns": null,
      "grid_auto_flow": null,
      "grid_auto_rows": null,
      "grid_column": null,
      "grid_gap": null,
      "grid_row": null,
      "grid_template_areas": null,
      "grid_template_columns": null,
      "grid_template_rows": null,
      "height": null,
      "justify_content": null,
      "justify_items": null,
      "left": null,
      "margin": null,
      "max_height": null,
      "max_width": null,
      "min_height": null,
      "min_width": null,
      "object_fit": null,
      "object_position": null,
      "order": null,
      "overflow": null,
      "overflow_x": null,
      "overflow_y": null,
      "padding": null,
      "right": null,
      "top": null,
      "visibility": null,
      "width": null
     }
    },
    "23c1c15b72ba406ba0e1a2e15e13a704": {
     "model_module": "@jupyter-widgets/controls",
     "model_name": "FloatProgressModel",
     "state": {
      "_dom_classes": [],
      "_model_module": "@jupyter-widgets/controls",
      "_model_module_version": "1.5.0",
      "_model_name": "FloatProgressModel",
      "_view_count": null,
      "_view_module": "@jupyter-widgets/controls",
      "_view_module_version": "1.5.0",
      "_view_name": "ProgressView",
      "bar_style": "success",
      "description": "100%",
      "description_tooltip": null,
      "layout": "IPY_MODEL_f879f920dff3455cbd6663241655f421",
      "max": 52147035,
      "min": 0,
      "orientation": "horizontal",
      "style": "IPY_MODEL_5304a575187f4b2ab9674f36f3aeb0f3",
      "value": 52147035
     }
    },
    "266991b9ef7c4e73ac117dfe7f967dcb": {
     "model_module": "@jupyter-widgets/base",
     "model_name": "LayoutModel",
     "state": {
      "_model_module": "@jupyter-widgets/base",
      "_model_module_version": "1.2.0",
      "_model_name": "LayoutModel",
      "_view_count": null,
      "_view_module": "@jupyter-widgets/base",
      "_view_module_version": "1.2.0",
      "_view_name": "LayoutView",
      "align_content": null,
      "align_items": null,
      "align_self": null,
      "border": null,
      "bottom": null,
      "display": null,
      "flex": null,
      "flex_flow": null,
      "grid_area": null,
      "grid_auto_columns": null,
      "grid_auto_flow": null,
      "grid_auto_rows": null,
      "grid_column": null,
      "grid_gap": null,
      "grid_row": null,
      "grid_template_areas": null,
      "grid_template_columns": null,
      "grid_template_rows": null,
      "height": null,
      "justify_content": null,
      "justify_items": null,
      "left": null,
      "margin": null,
      "max_height": null,
      "max_width": null,
      "min_height": null,
      "min_width": null,
      "object_fit": null,
      "object_position": null,
      "order": null,
      "overflow": null,
      "overflow_x": null,
      "overflow_y": null,
      "padding": null,
      "right": null,
      "top": null,
      "visibility": null,
      "width": null
     }
    },
    "5304a575187f4b2ab9674f36f3aeb0f3": {
     "model_module": "@jupyter-widgets/controls",
     "model_name": "ProgressStyleModel",
     "state": {
      "_model_module": "@jupyter-widgets/controls",
      "_model_module_version": "1.5.0",
      "_model_name": "ProgressStyleModel",
      "_view_count": null,
      "_view_module": "@jupyter-widgets/base",
      "_view_module_version": "1.2.0",
      "_view_name": "StyleView",
      "bar_color": null,
      "description_width": "initial"
     }
    },
    "875792e7a27c4ac58ee09e219296067f": {
     "model_module": "@jupyter-widgets/controls",
     "model_name": "DescriptionStyleModel",
     "state": {
      "_model_module": "@jupyter-widgets/controls",
      "_model_module_version": "1.5.0",
      "_model_name": "DescriptionStyleModel",
      "_view_count": null,
      "_view_module": "@jupyter-widgets/base",
      "_view_module_version": "1.2.0",
      "_view_name": "StyleView",
      "description_width": ""
     }
    },
    "e333c767571940abad1d07aef7686a58": {
     "model_module": "@jupyter-widgets/controls",
     "model_name": "HBoxModel",
     "state": {
      "_dom_classes": [],
      "_model_module": "@jupyter-widgets/controls",
      "_model_module_version": "1.5.0",
      "_model_name": "HBoxModel",
      "_view_count": null,
      "_view_module": "@jupyter-widgets/controls",
      "_view_module_version": "1.5.0",
      "_view_name": "HBoxView",
      "box_style": "",
      "children": [
       "IPY_MODEL_23c1c15b72ba406ba0e1a2e15e13a704",
       "IPY_MODEL_00b0b2af2a5d4a06ac2364d470d25e90"
      ],
      "layout": "IPY_MODEL_266991b9ef7c4e73ac117dfe7f967dcb"
     }
    },
    "f879f920dff3455cbd6663241655f421": {
     "model_module": "@jupyter-widgets/base",
     "model_name": "LayoutModel",
     "state": {
      "_model_module": "@jupyter-widgets/base",
      "_model_module_version": "1.2.0",
      "_model_name": "LayoutModel",
      "_view_count": null,
      "_view_module": "@jupyter-widgets/base",
      "_view_module_version": "1.2.0",
      "_view_name": "LayoutView",
      "align_content": null,
      "align_items": null,
      "align_self": null,
      "border": null,
      "bottom": null,
      "display": null,
      "flex": null,
      "flex_flow": null,
      "grid_area": null,
      "grid_auto_columns": null,
      "grid_auto_flow": null,
      "grid_auto_rows": null,
      "grid_column": null,
      "grid_gap": null,
      "grid_row": null,
      "grid_template_areas": null,
      "grid_template_columns": null,
      "grid_template_rows": null,
      "height": null,
      "justify_content": null,
      "justify_items": null,
      "left": null,
      "margin": null,
      "max_height": null,
      "max_width": null,
      "min_height": null,
      "min_width": null,
      "object_fit": null,
      "object_position": null,
      "order": null,
      "overflow": null,
      "overflow_x": null,
      "overflow_y": null,
      "padding": null,
      "right": null,
      "top": null,
      "visibility": null,
      "width": null
     }
    }
   }
  }
 },
 "nbformat": 4,
 "nbformat_minor": 1
}
